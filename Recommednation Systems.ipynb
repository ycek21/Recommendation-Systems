{
 "cells": [
  {
   "cell_type": "code",
   "execution_count": 3,
   "metadata": {},
   "outputs": [],
   "source": [
    "import pandas as pd\n",
    "import os"
   ]
  },
  {
   "cell_type": "code",
   "execution_count": 4,
   "metadata": {},
   "outputs": [],
   "source": [
    "criteo_as_dataFrame = pd.read_csv('criteoCategorized_as_category.csv')\n",
    "\n"
   ]
  },
  {
   "cell_type": "code",
   "execution_count": null,
   "metadata": {},
   "outputs": [],
   "source": [
    "# Check how many individual partners does the dataset contain."
   ]
  },
  {
   "cell_type": "code",
   "execution_count": 5,
   "metadata": {},
   "outputs": [
    {
     "output_type": "execute_result",
     "data": {
      "text/plain": [
       "277    3090150\n",
       "266     580289\n",
       "130     504659\n",
       "247     403327\n",
       "102     384704\n",
       "        ...   \n",
       "188          1\n",
       "253          1\n",
       "248          1\n",
       "244          1\n",
       "180          1\n",
       "Name: partner_id, Length: 312, dtype: int64"
      ]
     },
     "metadata": {},
     "execution_count": 5
    }
   ],
   "source": [
    "criteo_as_dataFrame['partner_id'].value_counts()"
   ]
  },
  {
   "cell_type": "code",
   "execution_count": 6,
   "metadata": {},
   "outputs": [
    {
     "output_type": "stream",
     "name": "stdout",
     "text": [
      "          Unnamed: 0   Sale  SalesAmountInEuro  time_delay_for_conversion  \\\n2466150      2466150  False               -1.0                         -1   \n10871234    10871234  False               -1.0                         -1   \n6851405      6851405  False               -1.0                         -1   \n3298549      3298549  False               -1.0                         -1   \n9648063      9648063  False               -1.0                         -1   \n4620273      4620273  False               -1.0                         -1   \n1044075      1044075  False               -1.0                         -1   \n1045841      1045841  False               -1.0                         -1   \n577547        577547  False               -1.0                         -1   \n11630433    11630433  False               -1.0                         -1   \n\n              click_timestamp  nb_clicks_1week  product_price  \\\n2466150   2020-11-02 07:24:30               -1            0.0   \n10871234  2020-11-02 07:24:30               -1            0.0   \n6851405   2020-11-02 07:24:30               -1            0.0   \n3298549   2020-11-02 07:24:29               -1            0.0   \n9648063   2020-11-02 07:24:29               -1            0.0   \n4620273   2020-11-02 07:24:29             3986            0.0   \n1044075   2020-11-02 07:24:29               24            0.0   \n1045841   2020-11-02 07:24:29             1272            0.0   \n577547    2020-11-02 07:24:28               15            0.0   \n11630433  2020-11-02 07:24:28               -1            0.0   \n\n          product_age_group  device_type  audience_id  ...  prod_category3  \\\n2466150                   0            3            0  ...               0   \n10871234                  0            3         4928  ...               0   \n6851405                   0            3            0  ...               0   \n3298549                   0            3         6987  ...               0   \n9648063                   0            7          503  ...               0   \n4620273                   0            3            0  ...            1022   \n1044075                   0            3        12594  ...             481   \n1045841                   0            7            0  ...            1022   \n577547                    0            7            0  ...              36   \n11630433                  0            3        10413  ...               0   \n\n          prod_category4  prod_category5  prod_category6  prod_category7  \\\n2466150                0               0               0               0   \n10871234               0               0               0               0   \n6851405                0               0               0               0   \n3298549                0               0               0               0   \n9648063                0               0               0               0   \n4620273             1271               0               0               0   \n1044075              833               0               0               0   \n1045841             1271               0               0               0   \n577547              1267               0               0               0   \n11630433               0               0               0               0   \n\n          product_country  product_id  product_title  partner_id   user_id  \n2466150                 0           0              0          37  12872305  \n10871234                0           0              0         117   9134846  \n6851405                 0           0              0          65  11526599  \n3298549                 0           0              0         287   8035292  \n9648063                 0           0              0          32  13683652  \n4620273                23      548968         413922         266   9805662  \n1044075                10      613398         787876          96  12539666  \n1045841                23      895259         413823         266   6161323  \n577547                 10      900030         420524          32   1140627  \n11630433                0           0              0          32   8448193  \n\n[10 rows x 24 columns]\n"
     ]
    }
   ],
   "source": [
    "sorted_criteo_as_dataFrame = criteo_as_dataFrame.sort_values('click_timestamp', ascending = False)\n",
    "print(sorted_criteo_as_dataFrame.head(10))"
   ]
  },
  {
   "cell_type": "code",
   "execution_count": 7,
   "metadata": {},
   "outputs": [
    {
     "output_type": "stream",
     "name": "stdout",
     "text": [
      "partner_id\n0         214\n1        5056\n2       92283\n3       24011\n4        2397\n        ...  \n307       990\n308    153523\n309     37973\n310     11069\n311     89454\nLength: 312, dtype: int64\n"
     ]
    }
   ],
   "source": [
    "grouped_by_partner_id = sorted_criteo_as_dataFrame.groupby('partner_id')\n",
    "print(grouped_by_partner_id.size())"
   ]
  },
  {
   "cell_type": "code",
   "execution_count": 11,
   "metadata": {
    "tags": []
   },
   "outputs": [
    {
     "output_type": "error",
     "ename": "FileNotFoundError",
     "evalue": "[Errno 2] No such file or directory: 'd:\\\\Projects\\\\Recommendation-Systems\\\\partners\\\\partner_id_0\\\\.csv'",
     "traceback": [
      "\u001b[1;31m---------------------------------------------------------------------------\u001b[0m",
      "\u001b[1;31mFileNotFoundError\u001b[0m                         Traceback (most recent call last)",
      "\u001b[1;32m<ipython-input-11-ea97d784f061>\u001b[0m in \u001b[0;36m<module>\u001b[1;34m\u001b[0m\n\u001b[0;32m      2\u001b[0m \u001b[1;33m\u001b[0m\u001b[0m\n\u001b[0;32m      3\u001b[0m     \u001b[0mpartnerFilePath\u001b[0m \u001b[1;33m=\u001b[0m \u001b[0mos\u001b[0m\u001b[1;33m.\u001b[0m\u001b[0mpath\u001b[0m\u001b[1;33m.\u001b[0m\u001b[0mjoin\u001b[0m\u001b[1;33m(\u001b[0m\u001b[0mos\u001b[0m\u001b[1;33m.\u001b[0m\u001b[0mgetcwd\u001b[0m\u001b[1;33m(\u001b[0m\u001b[1;33m)\u001b[0m\u001b[1;33m,\u001b[0m \u001b[1;34m'partners'\u001b[0m\u001b[1;33m,\u001b[0m \u001b[1;34m'partner_id_'\u001b[0m \u001b[1;33m+\u001b[0m \u001b[0mstr\u001b[0m\u001b[1;33m(\u001b[0m\u001b[0mindex\u001b[0m\u001b[1;33m)\u001b[0m\u001b[1;33m,\u001b[0m \u001b[1;34m'.csv'\u001b[0m\u001b[1;33m)\u001b[0m\u001b[1;33m\u001b[0m\u001b[1;33m\u001b[0m\u001b[0m\n\u001b[1;32m----> 4\u001b[1;33m     \u001b[0mpartnerData\u001b[0m\u001b[1;33m.\u001b[0m\u001b[0mto_csv\u001b[0m\u001b[1;33m(\u001b[0m\u001b[0mpartnerFilePath\u001b[0m\u001b[1;33m,\u001b[0m \u001b[0mindex\u001b[0m\u001b[1;33m=\u001b[0m \u001b[1;32mFalse\u001b[0m\u001b[1;33m)\u001b[0m\u001b[1;33m\u001b[0m\u001b[1;33m\u001b[0m\u001b[0m\n\u001b[0m",
      "\u001b[1;32md:\\Projects\\Recommendation-Systems\\venv\\lib\\site-packages\\pandas\\core\\generic.py\u001b[0m in \u001b[0;36mto_csv\u001b[1;34m(self, path_or_buf, sep, na_rep, float_format, columns, header, index, index_label, mode, encoding, compression, quoting, quotechar, line_terminator, chunksize, date_format, doublequote, escapechar, decimal, errors)\u001b[0m\n\u001b[0;32m   3168\u001b[0m             \u001b[0mdecimal\u001b[0m\u001b[1;33m=\u001b[0m\u001b[0mdecimal\u001b[0m\u001b[1;33m,\u001b[0m\u001b[1;33m\u001b[0m\u001b[1;33m\u001b[0m\u001b[0m\n\u001b[0;32m   3169\u001b[0m         )\n\u001b[1;32m-> 3170\u001b[1;33m         \u001b[0mformatter\u001b[0m\u001b[1;33m.\u001b[0m\u001b[0msave\u001b[0m\u001b[1;33m(\u001b[0m\u001b[1;33m)\u001b[0m\u001b[1;33m\u001b[0m\u001b[1;33m\u001b[0m\u001b[0m\n\u001b[0m\u001b[0;32m   3171\u001b[0m \u001b[1;33m\u001b[0m\u001b[0m\n\u001b[0;32m   3172\u001b[0m         \u001b[1;32mif\u001b[0m \u001b[0mpath_or_buf\u001b[0m \u001b[1;32mis\u001b[0m \u001b[1;32mNone\u001b[0m\u001b[1;33m:\u001b[0m\u001b[1;33m\u001b[0m\u001b[1;33m\u001b[0m\u001b[0m\n",
      "\u001b[1;32md:\\Projects\\Recommendation-Systems\\venv\\lib\\site-packages\\pandas\\io\\formats\\csvs.py\u001b[0m in \u001b[0;36msave\u001b[1;34m(self)\u001b[0m\n\u001b[0;32m    183\u001b[0m             \u001b[0mclose\u001b[0m \u001b[1;33m=\u001b[0m \u001b[1;32mFalse\u001b[0m\u001b[1;33m\u001b[0m\u001b[1;33m\u001b[0m\u001b[0m\n\u001b[0;32m    184\u001b[0m         \u001b[1;32melse\u001b[0m\u001b[1;33m:\u001b[0m\u001b[1;33m\u001b[0m\u001b[1;33m\u001b[0m\u001b[0m\n\u001b[1;32m--> 185\u001b[1;33m             f, handles = get_handle(\n\u001b[0m\u001b[0;32m    186\u001b[0m                 \u001b[0mself\u001b[0m\u001b[1;33m.\u001b[0m\u001b[0mpath_or_buf\u001b[0m\u001b[1;33m,\u001b[0m\u001b[1;33m\u001b[0m\u001b[1;33m\u001b[0m\u001b[0m\n\u001b[0;32m    187\u001b[0m                 \u001b[0mself\u001b[0m\u001b[1;33m.\u001b[0m\u001b[0mmode\u001b[0m\u001b[1;33m,\u001b[0m\u001b[1;33m\u001b[0m\u001b[1;33m\u001b[0m\u001b[0m\n",
      "\u001b[1;32md:\\Projects\\Recommendation-Systems\\venv\\lib\\site-packages\\pandas\\io\\common.py\u001b[0m in \u001b[0;36mget_handle\u001b[1;34m(path_or_buf, mode, encoding, compression, memory_map, is_text, errors)\u001b[0m\n\u001b[0;32m    491\u001b[0m         \u001b[1;32mif\u001b[0m \u001b[0mencoding\u001b[0m\u001b[1;33m:\u001b[0m\u001b[1;33m\u001b[0m\u001b[1;33m\u001b[0m\u001b[0m\n\u001b[0;32m    492\u001b[0m             \u001b[1;31m# Encoding\u001b[0m\u001b[1;33m\u001b[0m\u001b[1;33m\u001b[0m\u001b[1;33m\u001b[0m\u001b[0m\n\u001b[1;32m--> 493\u001b[1;33m             \u001b[0mf\u001b[0m \u001b[1;33m=\u001b[0m \u001b[0mopen\u001b[0m\u001b[1;33m(\u001b[0m\u001b[0mpath_or_buf\u001b[0m\u001b[1;33m,\u001b[0m \u001b[0mmode\u001b[0m\u001b[1;33m,\u001b[0m \u001b[0mencoding\u001b[0m\u001b[1;33m=\u001b[0m\u001b[0mencoding\u001b[0m\u001b[1;33m,\u001b[0m \u001b[0merrors\u001b[0m\u001b[1;33m=\u001b[0m\u001b[0merrors\u001b[0m\u001b[1;33m,\u001b[0m \u001b[0mnewline\u001b[0m\u001b[1;33m=\u001b[0m\u001b[1;34m\"\"\u001b[0m\u001b[1;33m)\u001b[0m\u001b[1;33m\u001b[0m\u001b[1;33m\u001b[0m\u001b[0m\n\u001b[0m\u001b[0;32m    494\u001b[0m         \u001b[1;32melif\u001b[0m \u001b[0mis_text\u001b[0m\u001b[1;33m:\u001b[0m\u001b[1;33m\u001b[0m\u001b[1;33m\u001b[0m\u001b[0m\n\u001b[0;32m    495\u001b[0m             \u001b[1;31m# No explicit encoding\u001b[0m\u001b[1;33m\u001b[0m\u001b[1;33m\u001b[0m\u001b[1;33m\u001b[0m\u001b[0m\n",
      "\u001b[1;31mFileNotFoundError\u001b[0m: [Errno 2] No such file or directory: 'd:\\\\Projects\\\\Recommendation-Systems\\\\partners\\\\partner_id_0\\\\.csv'"
     ]
    }
   ],
   "source": [
    "for index, partnerData in grouped_by_partner_id:\n",
    "\n",
    "    partnerFilePath = os.path.join(os.getcwd(), 'partners', 'partner_id_' + str(index) + '.csv')\n",
    "    partnerData.to_csv(partnerFilePath, index= False)"
   ]
  },
  {
   "cell_type": "code",
   "execution_count": null,
   "metadata": {},
   "outputs": [],
   "source": []
  }
 ],
 "metadata": {
  "kernelspec": {
   "name": "python3",
   "display_name": "Python 3",
   "language": "python"
  },
  "language_info": {
   "codemirror_mode": {
    "name": "ipython",
    "version": 3
   },
   "file_extension": ".py",
   "mimetype": "text/x-python",
   "name": "python",
   "nbconvert_exporter": "python",
   "pygments_lexer": "ipython3",
   "version": "3.8.2-final"
  }
 },
 "nbformat": 4,
 "nbformat_minor": 4
}